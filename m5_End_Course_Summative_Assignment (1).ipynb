{
  "nbformat": 4,
  "nbformat_minor": 0,
  "metadata": {
    "colab": {
      "provenance": [],
      "authorship_tag": "ABX9TyNP+GQ0SqogKeEBw+4EeLzy",
      "include_colab_link": true
    },
    "kernelspec": {
      "name": "python3",
      "display_name": "Python 3"
    },
    "language_info": {
      "name": "python"
    }
  },
  "cells": [
    {
      "cell_type": "markdown",
      "metadata": {
        "id": "view-in-github",
        "colab_type": "text"
      },
      "source": [
        "<a href=\"https://colab.research.google.com/github/amitwakade93/M-5-Capstone-Project-Applied-Statistics/blob/main/m5_End_Course_Summative_Assignment.ipynb\" target=\"_parent\"><img src=\"https://colab.research.google.com/assets/colab-badge.svg\" alt=\"Open In Colab\"/></a>"
      ]
    },
    {
      "cell_type": "code",
      "execution_count": null,
      "metadata": {
        "id": "IdBlsHOn_gqz"
      },
      "outputs": [],
      "source": []
    },
    {
      "cell_type": "markdown",
      "source": [
        "# End Course Summative Assignment\n",
        "\n",
        "**Problem Statement: Write the Solutions to the Top 50 Interview Questions and Explain any 5 Questions in a Video**\n",
        "\n",
        "Imagine you are a dedicated student aspiring to excel in job interviews. Your task is to write the solutions for any 50 interview questions out of  80 total questions  presented to you. Additionally, create an engaging video where you thoroughly explain the answers to any five of these questions.\n",
        "\n",
        "Your solutions should be concise, well-structured, and effective in showcasing your problem-solving skills. In the video, use a dynamic approach to clarify the chosen questions, ensuring your explanations are easily comprehensible for a broad audience.\n",
        "\n",
        "**Note:**\n",
        "\n",
        "1. Make a copy of this document and write your answers.\n",
        "2. Include the Video Link here in your document before submitting.\n"
      ],
      "metadata": {
        "id": "2EfLZj0M_iH6"
      }
    },
    {
      "cell_type": "code",
      "source": [],
      "metadata": {
        "id": "OBRT5NVD9o7b"
      },
      "execution_count": null,
      "outputs": []
    },
    {
      "cell_type": "markdown",
      "source": [
        "### **1. What is a vector in mathematics?**\n"
      ],
      "metadata": {
        "id": "WUKmerDLAsxn"
      }
    },
    {
      "cell_type": "markdown",
      "source": [
        "ans:- A vector is a mathematical quantity with both magnitude and direction.\n",
        "\n",
        "The magnitude of vector u, denoted |u|, is it's length.\n",
        "\n",
        "One way to express its direction is to give the angle it makes with a horizontal ray (that points to the right) that is parallel to the positive x-axis. This is called the vector's direction angle"
      ],
      "metadata": {
        "id": "9h-9zCqgcP8M"
      }
    },
    {
      "cell_type": "markdown",
      "source": [
        "### **2. How is a vector different from a scalar?**"
      ],
      "metadata": {
        "id": "qSU_Ahc2BbUf"
      }
    },
    {
      "cell_type": "markdown",
      "source": [
        "Answer: A vector is different from a scalar in that a scalar only has magnitude, while a vector has both magnitude and direction. Scalars are represented by a single value, such as temperature or mass, while vectors are represented by an ordered set of values or coordinates."
      ],
      "metadata": {
        "id": "8ZpyX4LScqtl"
      }
    },
    {
      "cell_type": "markdown",
      "source": [
        "### **3. What are the different operations that can be performed on vectors?**\n"
      ],
      "metadata": {
        "id": "XBf_6-FuBmQi"
      }
    },
    {
      "cell_type": "markdown",
      "source": [
        "Answer: Some common operations that can be performed on vectors include addition, subtraction, scalar multiplication, dot product, cross product, and vector projection. These operations allow for various mathematical manipulations and calculations involving vectors."
      ],
      "metadata": {
        "id": "dxbcJk_NcsjK"
      }
    },
    {
      "cell_type": "markdown",
      "source": [
        "### **4. How can vectors be multiplied by a scalar?**"
      ],
      "metadata": {
        "id": "nPy_WV36BqGy"
      }
    },
    {
      "cell_type": "markdown",
      "source": [
        "Answer: When a vector is multiplied by a scalar, each component of the vector is multiplied by the scalar value. For example, if we have a vector A = (a1, a2, a3) and a scalar c, the scalar multiplication of the vector is c * A = (c * a1, c * a2, c * a3)."
      ],
      "metadata": {
        "id": "EeSLNv9zddIo"
      }
    },
    {
      "cell_type": "markdown",
      "source": [
        "### **5. What is the magnitude of a vector?**"
      ],
      "metadata": {
        "id": "nqpY-5_bBvuL"
      }
    },
    {
      "cell_type": "markdown",
      "source": [
        "Answer: The magnitude of a vector represents its length or size. It is calculated using the Pythagorean theorem, which states that the magnitude of a vector A = (a1, a2, a3) is given by ||A|| = √(a1^2 + a2^2 + a3^2)."
      ],
      "metadata": {
        "id": "_du_7ob2dnjI"
      }
    },
    {
      "cell_type": "markdown",
      "source": [
        "### **6. How can the direction of a vector be determined?**\n",
        "\n"
      ],
      "metadata": {
        "id": "w44Y8TVKCHZB"
      }
    },
    {
      "cell_type": "markdown",
      "source": [
        "Answer: The direction of a vector can be determined by finding the angle it makes with a reference axis or another vector. This can be done using trigonometric functions such as sine, cosine, or tangent. Alternatively, the direction can be represented using unit vectors or by specifying the angles of rotation needed to align the vector with the coordinate axes."
      ],
      "metadata": {
        "id": "05j68ysRdvML"
      }
    },
    {
      "cell_type": "markdown",
      "source": [
        "### **7. What is the difference between a square matrix and a rectangular matrix?**\n",
        "\n"
      ],
      "metadata": {
        "id": "VD2PWd00CKoI"
      }
    },
    {
      "cell_type": "markdown",
      "source": [
        "Answer: A square matrix is a matrix in which the number of rows is equal to the number of columns. In other words, it has the same dimensions, such as 2 × 2 or 3 × 3. A rectangular matrix, on the other hand, has different numbers of rows and columns, such as 2 × 3 or 4 × 2."
      ],
      "metadata": {
        "id": "EdAR3cbWd2lx"
      }
    },
    {
      "cell_type": "markdown",
      "source": [
        "### **8. What is a basis in linear algebra?**\n",
        "\n"
      ],
      "metadata": {
        "id": "Oqw0WdGcCOJf"
      }
    },
    {
      "cell_type": "markdown",
      "source": [
        "A basis is a set of linearly independent vectors that can be used to express any other vector in a given vector space."
      ],
      "metadata": {
        "id": "XF_diEUOd-m1"
      }
    },
    {
      "cell_type": "markdown",
      "source": [
        "### **9. What is a linear transformation in linear algebra?**\n",
        "\n"
      ],
      "metadata": {
        "id": "acpjhukKCQe-"
      }
    },
    {
      "cell_type": "markdown",
      "source": [
        "A linear transformation is a function that maps one vector space to another in a way that preserves the basic structure of the space."
      ],
      "metadata": {
        "id": "O_v81k-7fa42"
      }
    },
    {
      "cell_type": "markdown",
      "source": [
        "### **10. What is an eigenvector in linear algebra?**"
      ],
      "metadata": {
        "id": "i2pEHD6uCSwV"
      }
    },
    {
      "cell_type": "markdown",
      "source": [
        "An eigenvector is a non-zero vector that, when multiplied by a given square matrix, results in a scalar multiple of the original vector. The scalar multiple is called the eigenvalue"
      ],
      "metadata": {
        "id": "4t5jkW3deR__"
      }
    },
    {
      "cell_type": "markdown",
      "source": [
        "### **11. What is the gradient in machine learning?**\n",
        "\n"
      ],
      "metadata": {
        "id": "grtKXY7bCftL"
      }
    },
    {
      "cell_type": "markdown",
      "source": [
        "The gradient is the vector of partial derivatives of a function with respect to its input variables. It is used in machine learning for optimizing models by adjusting their parameters in the direction of the steepest ascent."
      ],
      "metadata": {
        "id": "3Wu-G_ONedG-"
      }
    },
    {
      "cell_type": "markdown",
      "source": [
        "### **12. What is backpropagation in machine learning?**\n",
        "\n"
      ],
      "metadata": {
        "id": "3KD5kFrpCixY"
      }
    },
    {
      "cell_type": "markdown",
      "source": [
        "Backpropagation is an algorithm used in machine learning to calculate the gradient of a loss function with respect to the parameters of a neural network. It is used to optimize the network by adjusting the weights and biases."
      ],
      "metadata": {
        "id": "8aYIFrgPefVE"
      }
    },
    {
      "cell_type": "markdown",
      "source": [
        "### **13. What is the concept of a derivative in calculus?**\n",
        "\n"
      ],
      "metadata": {
        "id": "K9G41RfTClZB"
      }
    },
    {
      "cell_type": "markdown",
      "source": [
        "Answer: In calculus, the derivative represents the rate of change of a function with respect to its input variable. Geometrically, it corresponds to the slope of the tangent line to the function's graph at a particular point. The derivative provides information about how the function is changing locally, whether it is increasing or decreasing, and the steepness of the curve."
      ],
      "metadata": {
        "id": "qAG00LLYekw2"
      }
    },
    {
      "cell_type": "markdown",
      "source": [
        "### **14. How are partial derivatives used in machine learning?**\n",
        "\n"
      ],
      "metadata": {
        "id": "Gne4Vlq6CoG0"
      }
    },
    {
      "cell_type": "markdown",
      "source": [
        "Answer: Partial derivatives are used in machine learning, particularly in the field of deep learning, for optimizing neural networks. By calculating the partial derivatives of the loss function with respect to the network's weights, a process known as backpropagation, the network's parameters can be updated to minimize the loss. Partial derivatives provide information about how each weight affects the overall loss, enabling the network to learn and improve its predictions"
      ],
      "metadata": {
        "id": "jsEfLbEAezvo"
      }
    },
    {
      "cell_type": "markdown",
      "source": [
        "### **15. What is probability theory?**\n",
        "\n"
      ],
      "metadata": {
        "id": "wK2rzmVlCqgd"
      }
    },
    {
      "cell_type": "markdown",
      "source": [
        "Answer: Probability theory is the branch of mathematics that deals with studying random events and the likelihood of their occurrence. It provides a framework for understanding uncertainty and making predictions based on statistical analysis."
      ],
      "metadata": {
        "id": "MMxdQ6lzfwZD"
      }
    },
    {
      "cell_type": "markdown",
      "source": [
        "### **16. What are the primary components of probability theory?**\n",
        "\n"
      ],
      "metadata": {
        "id": "uU4WP2jECszP"
      }
    },
    {
      "cell_type": "markdown",
      "source": [
        "Answer: The primary components of probability theory include probability axioms and rules, conditional probability and Bayes theorem, random variables, and the law of large numbers and central limit theorem."
      ],
      "metadata": {
        "id": "kFV_VuOdf13I"
      }
    },
    {
      "cell_type": "markdown",
      "source": [
        "### **17. What is conditional probability, and how is it calculated?**\n",
        "\n"
      ],
      "metadata": {
        "id": "ZzVZd0ApCu4g"
      }
    },
    {
      "cell_type": "markdown",
      "source": [
        "Answer: Conditional probability is the probability of an event occurring, given that another event has already occurred. It is calculated by dividing the joint probability of the two events by the probability of the given event."
      ],
      "metadata": {
        "id": "VVvFPAYjf3aT"
      }
    },
    {
      "cell_type": "markdown",
      "source": [
        "### **18. What is Bayes theorem, and how is it used?**\n",
        "\n"
      ],
      "metadata": {
        "id": "MadMC8aOCxA-"
      }
    },
    {
      "cell_type": "markdown",
      "source": [
        "Answer: Bayes theorem is a mathematical formula that calculates the probability of an event based on prior knowledge or observations. It updates our beliefs about an event based on new information"
      ],
      "metadata": {
        "id": "Hzfd0Yhrf9ru"
      }
    },
    {
      "cell_type": "markdown",
      "source": [
        "### **19. What is a random variable, and how is it different from a regular variable?**\n",
        "\n"
      ],
      "metadata": {
        "id": "juVt0ZmUCzl8"
      }
    },
    {
      "cell_type": "markdown",
      "source": [
        "Answer: A random variable is a variable whose value is determined by chance or randomness. It is different from a regular variable, which has a fixed value."
      ],
      "metadata": {
        "id": "mzvGAxucgDCj"
      }
    },
    {
      "cell_type": "markdown",
      "source": [
        "### **20. What is the law of large numbers, and how does it relate to probability theory?**"
      ],
      "metadata": {
        "id": "dvG3-FvTC15r"
      }
    },
    {
      "cell_type": "markdown",
      "source": [
        "Answer: The law of large numbers states that as the sample size of a random variable increases, the sample mean converges to the population mean. It is a fundamental concept in probability theory used to make predictions based on large datasets."
      ],
      "metadata": {
        "id": "tu3jg4axgHSB"
      }
    },
    {
      "cell_type": "markdown",
      "source": [
        "### **21. What is the central limit theorem, and how is it used?**\n",
        "\n"
      ],
      "metadata": {
        "id": "UxrvV2euDGH-"
      }
    },
    {
      "cell_type": "markdown",
      "source": [
        "Answer: The central limit theorem states that as the sample size of a random variable increases, the distribution of the sample means approaches a normal distribution. It is used to make predictions about the mean of a population based on a sample."
      ],
      "metadata": {
        "id": "YmxZ8xc2gMoD"
      }
    },
    {
      "cell_type": "markdown",
      "source": [
        "### **22. What is the difference between discrete and continuous probability distributions?**\n",
        "\n"
      ],
      "metadata": {
        "id": "nOPw91sZDKJV"
      }
    },
    {
      "cell_type": "markdown",
      "source": [
        "Answer: Discrete probability distributions have a finite or countable number of possible values, while continuous probability distributions have an infinite number of possible values.\n"
      ],
      "metadata": {
        "id": "putCLZxHgTXb"
      }
    },
    {
      "cell_type": "markdown",
      "source": [
        "### **23. What are some common measures of central tendency, and how are they calculated?**\n",
        "\n"
      ],
      "metadata": {
        "id": "aJviZ2ujDM4i"
      }
    },
    {
      "cell_type": "markdown",
      "source": [
        "Answer: Common measures of central tendency include the mean, median, and mode. The mean is calculated by summing all values and dividing by the number of values. The median is the middle value when values are arranged in order, and the mode is the value that appears most frequently.\n"
      ],
      "metadata": {
        "id": "a8chJYGEgZ2u"
      }
    },
    {
      "cell_type": "markdown",
      "source": [
        "### **24. What is the purpose of using percentiles and quartiles in data summarization?**\n",
        "\n"
      ],
      "metadata": {
        "id": "zvKHV-WEDP57"
      }
    },
    {
      "cell_type": "markdown",
      "source": [
        "Answer: Percentiles and quartiles help to identify the spread of values within a dataset, particularly when dealing with skewed distributions. They can help identify values that fall above or below a certain threshold and provide insight into the distribution of values.\n"
      ],
      "metadata": {
        "id": "4MWM5Vg7gg-g"
      }
    },
    {
      "cell_type": "markdown",
      "source": [
        "### **25. How do you detect and treat outliers in a dataset?**\n",
        "\n"
      ],
      "metadata": {
        "id": "3pkGmNcEDkYG"
      }
    },
    {
      "cell_type": "markdown",
      "source": [
        "Answer: Outliers can be detected using various techniques, including scatter plots, box plots, and z-scores. Once identified, outliers can be treated using methods such as removal, transformation, or substitution.\n"
      ],
      "metadata": {
        "id": "Kgdff2cogrro"
      }
    },
    {
      "cell_type": "markdown",
      "source": [
        "### **26. How do you use the central limit theorem to approximate a discrete probability distribution?**"
      ],
      "metadata": {
        "id": "4lrddxBKGm1Q"
      }
    },
    {
      "cell_type": "markdown",
      "source": [
        "Answer: The central limit theorem states that as the sample size increases, the distribution of the sample mean approaches a normal distribution. This can be used to approximate the distribution of a discrete probability distribution with a normal distribution.\n"
      ],
      "metadata": {
        "id": "C5fbE7QtgxBe"
      }
    },
    {
      "cell_type": "markdown",
      "source": [
        " ### **27. How do you test the goodness of fit of a discrete probability distribution?**\n",
        "\n"
      ],
      "metadata": {
        "id": "kBaQiVEPDuSN"
      }
    },
    {
      "cell_type": "markdown",
      "source": [
        "Answer: The chi-squared goodness-of-fit test is commonly used to test the goodness of fit of a discrete probability distribution by comparing the observed frequencies to the expected frequencies based on the distribution.\n"
      ],
      "metadata": {
        "id": "6_uQd1V-hHKd"
      }
    },
    {
      "cell_type": "markdown",
      "source": [
        "### **29. How do you calculate the joint probability distribution?**\n",
        "\n"
      ],
      "metadata": {
        "id": "XrB6NztID2wY"
      }
    },
    {
      "cell_type": "markdown",
      "source": [
        "A joint probability distribution is a probability distribution that describes the probabilities of two or more random variables occurring simultaneously.\n"
      ],
      "metadata": {
        "id": "N3bzqKYShJcV"
      }
    },
    {
      "cell_type": "markdown",
      "source": [
        "### **30. What is the difference between a joint probability distribution and a marginal probability distribution?**\n",
        "\n"
      ],
      "metadata": {
        "id": "vpWtARahD7AH"
      }
    },
    {
      "cell_type": "markdown",
      "source": [
        "A joint probability distribution describes the probabilities of two or more random variables occurring simultaneously. In contrast, a marginal probability distribution describes the probabilities of a single random variable occurring regardless of the other variables.\n"
      ],
      "metadata": {
        "id": "3rhMKRt5hQWR"
      }
    },
    {
      "cell_type": "markdown",
      "source": [
        "### **31. What is the covariance of a joint probability distribution?**\n",
        "\n"
      ],
      "metadata": {
        "id": "zgtBWjrJED8M"
      }
    },
    {
      "cell_type": "markdown",
      "source": [
        "The covariance of a joint probability distribution measures the degree to which two random variables are related. It is calculated using the formula Cov(X, Y) = E(XY) - E(X)E(Y), where E(XY) is the expected value of the product of X and Y, and E(X) and E(Y) are the expected values of X and Y, respectively.\n"
      ],
      "metadata": {
        "id": "FR1eqIN-hZ5s"
      }
    },
    {
      "cell_type": "markdown",
      "source": [
        "### **32. How do you determine if two random variables are independent based on their joint probability distribution?**\n",
        "\n"
      ],
      "metadata": {
        "id": "pQfHWSSqEIj0"
      }
    },
    {
      "cell_type": "markdown",
      "source": [
        "Two random variables are independent if their joint probability distribution can be expressed as the product of their marginal probability distributions. That is if P(X=x, Y=y) = P(X=x)P(Y=y) for all possible values of x and y.\n"
      ],
      "metadata": {
        "id": "dOwMM4NKhnBO"
      }
    },
    {
      "cell_type": "markdown",
      "source": [
        "### **33. What is the relationship between the correlation coefficient and the covariance of a joint probability distribution?**\n",
        "\n"
      ],
      "metadata": {
        "id": "L-gVojezEOPU"
      }
    },
    {
      "cell_type": "markdown",
      "source": [
        "The correlation coefficient is a standardized version of the covariance, which allows for comparison of the degree of relationship between variables on different scales. It is calculated using the formula ρ(X, Y) = Cov(X, Y) / (σ(X)σ(Y)), where σ(X) and σ(Y) are the standard deviations of X and Y, respectively.\n"
      ],
      "metadata": {
        "id": "qWNkaGyuh5ug"
      }
    },
    {
      "cell_type": "markdown",
      "source": [
        "### **34. What is sampling in statistics, and why is it important?**\n",
        "\n"
      ],
      "metadata": {
        "id": "r8Z2YzBPES1K"
      }
    },
    {
      "cell_type": "markdown",
      "source": [
        "Answer: Sampling refers to the process of selecting a subset of individuals or items from a larger population. It is important because it allows us to make inferences about the entire population based on the characteristics observed in the sample. Sampling helps in reducing the time, cost, and effort required to collect data from the entire population"
      ],
      "metadata": {
        "id": "TlsZl5K8iHJ_"
      }
    },
    {
      "cell_type": "markdown",
      "source": [
        "### **35. What are the different sampling methods commonly used in statistical inference?**\n",
        "\n"
      ],
      "metadata": {
        "id": "Z8wJlzKjEWVh"
      }
    },
    {
      "cell_type": "markdown",
      "source": [
        "Answer: There are several sampling methods, including simple random sampling, stratified sampling, systematic sampling, cluster sampling, and convenience sampling. Each method has its own advantages and disadvantages, and the choice of method depends on the research objectives and available resources."
      ],
      "metadata": {
        "id": "xoRPRbc446d7"
      }
    },
    {
      "cell_type": "markdown",
      "source": [
        "### **36. What is the central limit theorem, and why is it important in statistical inference?**\n",
        "\n"
      ],
      "metadata": {
        "id": "rGNOZwirEaVP"
      }
    },
    {
      "cell_type": "markdown",
      "source": [
        "Answer: The central limit theorem states that when independent random variables are added, their sum tends toward a normal distribution, regardless of the shape of the original distribution. It is important because it allows us to make assumptions about the sampling distribution of the sample mean, even if the population distribution is not known."
      ],
      "metadata": {
        "id": "483XYu6P5CZ0"
      }
    },
    {
      "cell_type": "markdown",
      "source": [
        "### **37. What is the difference between parameter estimation and hypothesis testing?**\n",
        "\n"
      ],
      "metadata": {
        "id": "a67GTNLWE8Fe"
      }
    },
    {
      "cell_type": "markdown",
      "source": [
        "Answer: Parameter estimation involves estimating unknown parameters, such as the population mean or variance, based on sample data. Hypothesis testing, on the other hand, involves making decisions about the population based on sample data, such as testing whether a specific hypothesis is true or not."
      ],
      "metadata": {
        "id": "yBKZarow5JOk"
      }
    },
    {
      "cell_type": "markdown",
      "source": [
        "### **38. What is the p-value in hypothesis testing?**\n",
        "\n"
      ],
      "metadata": {
        "id": "3VO9CE_KFCeV"
      }
    },
    {
      "cell_type": "markdown",
      "source": [
        "Answer: The p-value is the probability of obtaining a test statistic as extreme as, or more extreme than, the observed value, assuming that the null hypothesis is true. It is used to determine the statistical significance of the results and helps in deciding whether to reject or fail to reject the null hypothesis."
      ],
      "metadata": {
        "id": "kQBEE66Y5Xrn"
      }
    },
    {
      "cell_type": "markdown",
      "source": [
        "### **39. What is confidence interval estimation?**\n",
        "\n"
      ],
      "metadata": {
        "id": "g6bClKfdFF7p"
      }
    },
    {
      "cell_type": "markdown",
      "source": [
        "Answer: Confidence interval estimation is a method used to estimate the range of values within which a population parameter is likely to fall based on a sample. It provides a range of plausible values rather than a single-point estimate, and the confidence level represents the probability that the interval contains the true population parameter."
      ],
      "metadata": {
        "id": "TuXxcYQz5cPa"
      }
    },
    {
      "cell_type": "markdown",
      "source": [
        "### **40. What are Type I and Type II errors in hypothesis testing?**"
      ],
      "metadata": {
        "id": "kdWktR62FKnE"
      }
    },
    {
      "cell_type": "markdown",
      "source": [
        "Answer: Type I error occurs when the null hypothesis is rejected, even though it is true. It represents a false positive result. Type II error occurs when the null hypothesis is not rejected, even though it is false. It represents a false negative result. The probability of Type I error is denoted by the significance level (α), while the probability of Type II error is denoted by β."
      ],
      "metadata": {
        "id": "WdNnLhHZ5iin"
      }
    },
    {
      "cell_type": "markdown",
      "source": [
        "### **41. What is the difference between correlation and causation?**\n",
        "\n"
      ],
      "metadata": {
        "id": "OwY9sLh9Fkdq"
      }
    },
    {
      "cell_type": "markdown",
      "source": [
        "Answer: Correlation refers to a statistical relationship between two variables, indicating how they move together. Causation, on the other hand, implies that one variable directly influences or causes a change in another variable. While correlation can suggest a potential relationship, it does not prove causation, as there may be other underlying factors or confounding variables at play."
      ],
      "metadata": {
        "id": "xDaakLvh5oC5"
      }
    },
    {
      "cell_type": "markdown",
      "source": [
        "### **42. How is a confidence interval defined in statistics?**\n",
        "\n"
      ],
      "metadata": {
        "id": "qNmhYFPBFoXk"
      }
    },
    {
      "cell_type": "markdown",
      "source": [
        "Answer: A confidence interval is a range of values that is constructed around an estimate and is used to quantify the uncertainty associated with the estimate. It provides a level of confidence that the true population parameter lies within the interval."
      ],
      "metadata": {
        "id": "pRN-VH7-5ue7"
      }
    },
    {
      "cell_type": "markdown",
      "source": [
        "### **43. What does the confidence level represent in a confidence interval?**\n",
        "\n"
      ],
      "metadata": {
        "id": "0Tp48n54Frty"
      }
    },
    {
      "cell_type": "markdown",
      "source": [
        "Answer: The confidence level represents the probability that the confidence interval contains the true population parameter. For example, a 95% confidence level means that if we were to repeat the sampling process many times, approximately 95% of the resulting confidence intervals would contain the true parameter."
      ],
      "metadata": {
        "id": "Uk-Z2FOv547H"
      }
    },
    {
      "cell_type": "markdown",
      "source": [
        "### **44. What is hypothesis testing in statistics?**\n",
        "\n"
      ],
      "metadata": {
        "id": "ttAfsGh2Fu3q"
      }
    },
    {
      "cell_type": "markdown",
      "source": [
        "Answer: Hypothesis testing is a statistical method used to make inferences about population parameters based on sample data. It involves formulating a null hypothesis and an alternative hypothesis, collecting sample data, and evaluating the evidence to determine whether there is enough evidence to reject the null hypothesis in favor of the alternative hypothesis."
      ],
      "metadata": {
        "id": "PExK9Woe590N"
      }
    },
    {
      "cell_type": "markdown",
      "source": [
        "### **45. What is the purpose of a null hypothesis in hypothesis testing?**\n",
        "\n"
      ],
      "metadata": {
        "id": "8LZuyCUNFxmh"
      }
    },
    {
      "cell_type": "markdown",
      "source": [
        "Answer: The null hypothesis represents the default assumption or claim that there is no significant difference or relationship between variables in the population. Hypothesis testing is performed to either reject or fail to reject the null hypothesis based on the evidence from the sample data."
      ],
      "metadata": {
        "id": "6oGHSLmv6HXD"
      }
    },
    {
      "cell_type": "markdown",
      "source": [
        "### **46. What is the difference between a one-tailed and a two-tailed test?**"
      ],
      "metadata": {
        "id": "_QF82YZJFz63"
      }
    },
    {
      "cell_type": "markdown",
      "source": [
        "Answer: In a one-tailed test, the alternative hypothesis is directional, indicating a specific difference or relationship between variables. In a two-tailed test, the alternative hypothesis is non-directional, suggesting that there is a difference or relationship, but not specifying its direction."
      ],
      "metadata": {
        "id": "WS40lkxT6Nu9"
      }
    },
    {
      "cell_type": "markdown",
      "source": [
        "### **47. What is experiment design, and why is it important?**\n",
        "\n"
      ],
      "metadata": {
        "id": "cfSa7WMVICbp"
      }
    },
    {
      "cell_type": "markdown",
      "source": [
        "Answer: Experiment design refers to the process of planning and organizing an experiment to gather data and test specific hypotheses. It is important because a well-designed experiment allows researchers to control variables, minimize bias, and draw reliable conclusions about cause-and-effect relationships."
      ],
      "metadata": {
        "id": "siDduA2Y6S5u"
      }
    },
    {
      "cell_type": "markdown",
      "source": [
        "### **48. What are the key elements to consider when designing an experiment?**\n",
        "\n"
      ],
      "metadata": {
        "id": "z6blNtiKILFP"
      }
    },
    {
      "cell_type": "markdown",
      "source": [
        "Answer: When designing an experiment, key elements to consider include defining the research question, determining the variables, selecting an appropriate sample or population, deciding on the experimental design (e.g., randomized controlled trial, factorial design), and establishing a suitable data collection and analysis plan."
      ],
      "metadata": {
        "id": "TIXEg4LE6mqn"
      }
    },
    {
      "cell_type": "markdown",
      "source": [
        "### **49. How can sample size determination affect experiment design?**\n",
        "\n"
      ],
      "metadata": {
        "id": "eLWKN7YNINA2"
      }
    },
    {
      "cell_type": "markdown",
      "source": [
        "Answer: Sample size determination is a crucial aspect of experiment design. A larger sample size generally increases the statistical power of the study, allowing for more accurate detection of treatment effects. It also helps ensure that the study findings are representative of the target population."
      ],
      "metadata": {
        "id": "mHXJXPHi6x2u"
      }
    },
    {
      "cell_type": "markdown",
      "source": [
        "### **50. What are some strategies to mitigate potential sources of bias in experiment design?**"
      ],
      "metadata": {
        "id": "adbVOXo-IPRl"
      }
    },
    {
      "cell_type": "markdown",
      "source": [
        "Answer: Strategies to mitigate bias in experiment design include randomization, blinding, careful selection and allocation of participants, proper measurement techniques, and careful control of confounding variables. These strategies help minimize systematic errors and increase the reliability of the study results."
      ],
      "metadata": {
        "id": "TEGShmgu67XO"
      }
    },
    {
      "cell_type": "markdown",
      "source": [
        "### **51. What is the geometric interpretation of the dot product?**\n",
        "\n"
      ],
      "metadata": {
        "id": "WeYIpmF4Icuj"
      }
    },
    {
      "cell_type": "markdown",
      "source": [
        "### **52. What is the geometric interpretation of the cross-product?**\n",
        "\n"
      ],
      "metadata": {
        "id": "WybEq66FIgWC"
      }
    },
    {
      "cell_type": "markdown",
      "source": [
        "### **53. How are optimization algorithms with calculus used in training deep learning models?**\n",
        "\n"
      ],
      "metadata": {
        "id": "fSkAoLB8IisC"
      }
    },
    {
      "cell_type": "markdown",
      "source": [
        "### **54. What are observational and experimental data in statistics?**\n",
        "\n"
      ],
      "metadata": {
        "id": "O2PLl5yiIle_"
      }
    },
    {
      "cell_type": "markdown",
      "source": [
        "### **55. How are confidence tests and hypothesis tests similar? How are they different?**\n",
        "\n"
      ],
      "metadata": {
        "id": "UV2j-XXhIoAP"
      }
    },
    {
      "cell_type": "markdown",
      "source": [
        "### **56. What is the left-skewed distribution and the right-skewed distribution?**\n",
        "\n"
      ],
      "metadata": {
        "id": "zwXHQJuWIskw"
      }
    },
    {
      "cell_type": "markdown",
      "source": [
        "### **57. What is Bessel’s correction?**\n",
        "\n"
      ],
      "metadata": {
        "id": "BLVgQBIuIuYX"
      }
    },
    {
      "cell_type": "markdown",
      "source": [
        "### **58. What is kurtosis?**\n",
        "\n"
      ],
      "metadata": {
        "id": "n1wRURBiIwbm"
      }
    },
    {
      "cell_type": "markdown",
      "source": [
        "### **59. What is the probability of throwing two fair dice when the sum is 5 and 8?**\n",
        "\n"
      ],
      "metadata": {
        "id": "lOiNf4xAIygf"
      }
    },
    {
      "cell_type": "markdown",
      "source": [
        "### **60. What is the difference between Descriptive and Inferential Statistics?**"
      ],
      "metadata": {
        "id": "5rvLu598I0Ym"
      }
    },
    {
      "cell_type": "markdown",
      "source": [
        "### **61. Imagine that Jeremy took part in an examination. The test has a mean score of 160, and it has a standard deviation of 15. If Jeremy’s z-score is 1.20, what would be his score on the test?**\n",
        "\n"
      ],
      "metadata": {
        "id": "UyXVReiPJDYg"
      }
    },
    {
      "cell_type": "markdown",
      "source": [
        "### **62. In an observation, there is a high correlation between the time a person sleeps and the amount of productive work he does. What can be inferred from this?**\n",
        "\n"
      ],
      "metadata": {
        "id": "3sUs5urJJGFB"
      }
    },
    {
      "cell_type": "markdown",
      "source": [
        "### **63. What is the meaning of degrees of freedom (DF) in statistics?**\n",
        "\n"
      ],
      "metadata": {
        "id": "pG1wmw4kJI0j"
      }
    },
    {
      "cell_type": "markdown",
      "source": [
        "### **64. If there is a 30 percent probability that you will see a supercar in any 20-minute time interval, what is the proba­bility that you see at least one supercar in the period of an hour (60 minutes)?**\n",
        "\n"
      ],
      "metadata": {
        "id": "ew1S-TPZJLLh"
      }
    },
    {
      "cell_type": "markdown",
      "source": [
        "### **65. What is the empirical rule in Statistics?**\n",
        "\n"
      ],
      "metadata": {
        "id": "idfd5EK0JNeb"
      }
    },
    {
      "cell_type": "markdown",
      "source": [
        "### **66. What is the relationship between sample size and power in hypothesis testing?**\n",
        "\n"
      ],
      "metadata": {
        "id": "VQvtJbY4JPb2"
      }
    },
    {
      "cell_type": "markdown",
      "source": [],
      "metadata": {
        "id": "dmzGIhg3JZ1B"
      }
    },
    {
      "cell_type": "markdown",
      "source": [
        "### **67. Can you perform hypothesis testing with non-parametric methods?**\n",
        "\n"
      ],
      "metadata": {
        "id": "kY0KE59DJRxg"
      }
    },
    {
      "cell_type": "markdown",
      "source": [
        "### **68. What factors affect the width of a confidence interval?**\n",
        "\n"
      ],
      "metadata": {
        "id": "dGEWNhKQJT2p"
      }
    },
    {
      "cell_type": "markdown",
      "source": [
        "### **69. How does increasing the confidence level affect the width of a confidence interval?**\n",
        "\n"
      ],
      "metadata": {
        "id": "DL7hYtKqJV4j"
      }
    },
    {
      "cell_type": "markdown",
      "source": [
        "### **70. Can a confidence interval be used to make a definitive statement about a specific individual in the population?**"
      ],
      "metadata": {
        "id": "XWwagAidJYIb"
      }
    },
    {
      "cell_type": "markdown",
      "source": [
        "### **71. How does sample size influence the width of a confidence interval?**\n",
        "\n"
      ],
      "metadata": {
        "id": "bCdWBm08JibD"
      }
    },
    {
      "cell_type": "markdown",
      "source": [
        "### **71. How does sample size influence the width of a confidence interval?**\n",
        "\n",
        "### **72. What is the relationship between the margin of error and confidence interval?**\n",
        "\n"
      ],
      "metadata": {
        "id": "U8l3RVfTJoLq"
      }
    },
    {
      "cell_type": "markdown",
      "source": [
        "### **73. Can two confidence intervals with different widths have the same confidence level?**\n",
        "\n"
      ],
      "metadata": {
        "id": "7ajakNisJq-K"
      }
    },
    {
      "cell_type": "markdown",
      "source": [
        "### **74. What is a Sampling Error and how can it be reduced?**\n",
        "\n"
      ],
      "metadata": {
        "id": "6xfZvHWLJtKK"
      }
    },
    {
      "cell_type": "markdown",
      "source": [
        "### **75. What is a Chi-Square test?**\n",
        "\n"
      ],
      "metadata": {
        "id": "-z9XHYitJvFo"
      }
    },
    {
      "cell_type": "markdown",
      "source": [
        "### **76. What is a t-test?**\n",
        "\n"
      ],
      "metadata": {
        "id": "2DfN0pvhJxIi"
      }
    },
    {
      "cell_type": "markdown",
      "source": [
        "### **77. What is the ANOVA test?**\n",
        "\n"
      ],
      "metadata": {
        "id": "GZafwc_6J0Ue"
      }
    },
    {
      "cell_type": "markdown",
      "source": [
        "### **78. How is hypothesis testing utilised in A/B testing for marketing campaigns?**\n",
        "\n"
      ],
      "metadata": {
        "id": "PkeDKOJ8J5tq"
      }
    },
    {
      "cell_type": "markdown",
      "source": [
        "### **79. What is the difference between one-tailed and two tailed t-tests?**\n",
        "\n"
      ],
      "metadata": {
        "id": "YaIQVl5FJ79s"
      }
    },
    {
      "cell_type": "markdown",
      "source": [
        "### **80. What is an inlier?**"
      ],
      "metadata": {
        "id": "0DBIytOJJ9r-"
      }
    }
  ]
}